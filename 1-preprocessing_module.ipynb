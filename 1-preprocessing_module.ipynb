{
 "cells": [
  {
   "cell_type": "code",
   "execution_count": 1,
   "metadata": {},
   "outputs": [],
   "source": [
    "from preprocessing_module import create_vocab,create_ham_clean,create_spam_clean"
   ]
  },
  {
   "cell_type": "code",
   "execution_count": 7,
   "metadata": {},
   "outputs": [],
   "source": [
    "ENG_VOCAB_FEATURES_FILE_DIR = './Dataset/eng_vocab_features.txt'"
   ]
  },
  {
   "cell_type": "markdown",
   "metadata": {},
   "source": [
    "# Create clean spam dataset"
   ]
  },
  {
   "cell_type": "code",
   "execution_count": 3,
   "metadata": {},
   "outputs": [
    {
     "name": "stdout",
     "output_type": "stream",
     "text": [
      "ham files found :  6951\n"
     ]
    }
   ],
   "source": [
    "create_ham_clean()"
   ]
  },
  {
   "cell_type": "markdown",
   "metadata": {},
   "source": [
    "# Create spam clean dataset"
   ]
  },
  {
   "cell_type": "code",
   "execution_count": 4,
   "metadata": {},
   "outputs": [
    {
     "name": "stdout",
     "output_type": "stream",
     "text": [
      "spam files found :  2397\n"
     ]
    }
   ],
   "source": [
    "create_spam_clean()"
   ]
  },
  {
   "cell_type": "code",
   "execution_count": 8,
   "metadata": {},
   "outputs": [
    {
     "name": "stdout",
     "output_type": "stream",
     "text": [
      "clean spam files found :  2397\n",
      "clean ham files found :  6951\n"
     ]
    }
   ],
   "source": [
    "vocab = create_vocab(5)"
   ]
  },
  {
   "cell_type": "markdown",
   "metadata": {},
   "source": [
    "## Vocab size"
   ]
  },
  {
   "cell_type": "code",
   "execution_count": 10,
   "metadata": {},
   "outputs": [
    {
     "data": {
      "text/plain": [
       "9891"
      ]
     },
     "execution_count": 10,
     "metadata": {},
     "output_type": "execute_result"
    }
   ],
   "source": [
    "len(vocab)"
   ]
  },
  {
   "cell_type": "code",
   "execution_count": 9,
   "metadata": {},
   "outputs": [],
   "source": [
    "eng_vocab_features = ' '.join([key for key in vocab.keys()])\n",
    "eng_vocab_featuresFile = open(ENG_VOCAB_FEATURES_FILE_DIR, \"w\",encoding = \"ISO-8859-1\")\n",
    "print(eng_vocab_features,file=eng_vocab_featuresFile)\n",
    "eng_vocab_featuresFile.close()"
   ]
  }
 ],
 "metadata": {
  "interpreter": {
   "hash": "04ca816f629268e8059debce0040472b46a057474b2ba3c5cb42c2b160ad6c3a"
  },
  "kernelspec": {
   "display_name": "Python 3.9.6 ('tf2env')",
   "language": "python",
   "name": "python3"
  },
  "language_info": {
   "codemirror_mode": {
    "name": "ipython",
    "version": 3
   },
   "file_extension": ".py",
   "mimetype": "text/x-python",
   "name": "python",
   "nbconvert_exporter": "python",
   "pygments_lexer": "ipython3",
   "version": "3.9.6"
  },
  "orig_nbformat": 4
 },
 "nbformat": 4,
 "nbformat_minor": 2
}
