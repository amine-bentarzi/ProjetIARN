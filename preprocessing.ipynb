{
 "cells": [
  {
   "cell_type": "code",
   "execution_count": 1,
   "metadata": {},
   "outputs": [],
   "source": [
    "import os"
   ]
  },
  {
   "cell_type": "code",
   "execution_count": 2,
   "metadata": {},
   "outputs": [],
   "source": [
    "HAM_DIR = './Dataset/ham/'\n",
    "SPAM_DIR = './Dataset/spam/'\n",
    "HAM_CLEAN_DIR = './Dataset/ham_clean/'\n",
    "SPAM_CLEAN_DIR = './Dataset/spam_clean/'"
   ]
  },
  {
   "cell_type": "code",
   "execution_count": 3,
   "metadata": {},
   "outputs": [
    {
     "name": "stdout",
     "output_type": "stream",
     "text": [
      "files len :  6951\n"
     ]
    }
   ],
   "source": [
    "for _ ,__ ,files in os.walk(HAM_DIR):\n",
    "    print(\"files len : \",len(files))\n"
   ]
  },
  {
   "cell_type": "code",
   "execution_count": 4,
   "metadata": {},
   "outputs": [],
   "source": [
    "def walk_till_empty(lines , i):\n",
    "    while i+1 < len(lines) and lines[i]!=\"\\n\":\n",
    "       i+=1\n",
    "    return i   "
   ]
  },
  {
   "cell_type": "code",
   "execution_count": 12,
   "metadata": {},
   "outputs": [],
   "source": [
    "def extract_email(filename):\n",
    "    with open(filename) as f:\n",
    "       lines = f.readlines()\n",
    "    i = walk_till_empty(lines , 0)\n",
    "    while lines[i+1].strip().split(\" \")[0].lower()[0]>='a'and lines[i+1].strip().split(\" \")[0].lower()[0]<='z'  and lines[i+1].strip().split(\" \")[0].find(\":\")!=-1:\n",
    "        i = walk_till_empty(lines , i+1)\n",
    "        \n",
    "    return lines[i+1:]"
   ]
  },
  {
   "cell_type": "code",
   "execution_count": 13,
   "metadata": {},
   "outputs": [
    {
     "data": {
      "text/plain": [
       "['[IMG: http://www.newsisfree.com/Images/fark/cnn.gif ([CNN])]\\n', '\\n', '\\n']"
      ]
     },
     "execution_count": 13,
     "metadata": {},
     "output_type": "execute_result"
    }
   ],
   "source": [
    "extract_email('./Dataset/ham/02023.36162b9866a8ec72ee07e96ff71b28dc')"
   ]
  },
  {
   "cell_type": "code",
   "execution_count": 9,
   "metadata": {},
   "outputs": [],
   "source": [
    "def create_ham_clean():\n",
    "    for _ ,__ ,ham_files in os.walk(HAM_DIR):\n",
    "        print(\"ham files found : \",len(files))\n",
    "    n = 0\n",
    "    for ham_file in ham_files :\n",
    "        #print(\"dealing with : \",ham_file)\n",
    "        outF = open(f\"{HAM_CLEAN_DIR}ham{n}.txt\", \"w\")\n",
    "        if n==4076:\n",
    "            print(\"the file : \"+ham_file)\n",
    "        n+=1\n",
    "        \n",
    "        for line in extract_email(f\"{HAM_DIR}{ham_file}\"):\n",
    "            \n",
    "            try:\n",
    "                print(line,file=outF)\n",
    "            except e:\n",
    "                print(e)\n",
    "\n",
    "            \n",
    "        outF.close()\n",
    "\n",
    "    "
   ]
  },
  {
   "cell_type": "code",
   "execution_count": 10,
   "metadata": {},
   "outputs": [
    {
     "name": "stdout",
     "output_type": "stream",
     "text": [
      "ham files found :  6951\n",
      "the file : 02023.36162b9866a8ec72ee07e96ff71b28dc\n"
     ]
    }
   ],
   "source": [
    "create_ham_clean()"
   ]
  }
 ],
 "metadata": {
  "interpreter": {
   "hash": "04ca816f629268e8059debce0040472b46a057474b2ba3c5cb42c2b160ad6c3a"
  },
  "kernelspec": {
   "display_name": "Python 3.9.6 ('tf2env')",
   "language": "python",
   "name": "python3"
  },
  "language_info": {
   "codemirror_mode": {
    "name": "ipython",
    "version": 3
   },
   "file_extension": ".py",
   "mimetype": "text/x-python",
   "name": "python",
   "nbconvert_exporter": "python",
   "pygments_lexer": "ipython3",
   "version": "3.9.6"
  },
  "orig_nbformat": 4
 },
 "nbformat": 4,
 "nbformat_minor": 2
}
